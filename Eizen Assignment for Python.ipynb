{
 "cells": [
  {
   "cell_type": "markdown",
   "id": "90cf6720",
   "metadata": {},
   "source": [
    "# Python Assignment"
   ]
  },
  {
   "cell_type": "markdown",
   "id": "92f48569-7e59-4bb6-98d8-0c2b8c31c648",
   "metadata": {},
   "source": [
    "## Question 1\n",
    "A flight company has to schedule a journey of N groups of people from the same source to the same destination. Here, A1, A2, ..., AN represents the number of people in each group. All groups are present at the source. The flight company has M planes where B1, B2, ..., Bm represents the capacity of each plane.\n",
    "You are required to send all groups to destination with the following conditions:\n",
    "1.\tEach plane can travel from the Source to Destination with only one group at a time such that the capacity of a plane is enough to accommodate all people in that group.\n",
    "2.\tAll people belonging to the same group travel together.\n",
    "3.\tEvery plane can make multiple journeys between source and destination.\n",
    "4.\tIt costs 1 unit of time to travel between source to destination and vice versa.\n",
    "Note: Multiple planes can fly together and also it is not necessary for planes to end their journey at the source.\n",
    "Determine the minimum time required to send all groups from the source to the destination.\n",
    "\n",
    "\n",
    "Input: The number of groups N, the people in each group, the number planes M, and the capacity of each plan\n",
    "For example, N = 4 and M = 3.\n",
    "8, 1, 6, 9 are the number of people in each of the 4 groups\n",
    "7, 3, 2 is the capacity of each plane of 3 planes\n",
    "\n",
    "\n",
    "Output: The minimum time required to send all the groups to the destination\n"
   ]
  },
  {
   "cell_type": "code",
   "execution_count": 3,
   "id": "4741b5c6-4ebb-4aa7-a5bf-e1b66e806f8c",
   "metadata": {},
   "outputs": [
    {
     "name": "stdout",
     "output_type": "stream",
     "text": [
      "1\n",
      "1\n",
      "1\n",
      "1\n",
      "1 1 1\n",
      "[1]\n",
      "[1]\n",
      "1\n"
     ]
    }
   ],
   "source": [
    "def Minimum_Time(People_Count_N, Plane_Capacity_M):\n",
    "    \n",
    "    # calculate minimum time to send the people to destination\n",
    "    People_Count_N = sorted(People_Count_N, reverse = True)\n",
    "    Plane_Capacity_M = sorted(Plane_Capacity_M, reverse = True)\n",
    "    \n",
    "    # If plane capacity is less than the maximum size of group.\n",
    "    if Plane_Capacity_M[0] < People_Count_N[0]:\n",
    "        return -1\n",
    "    \n",
    "    minTime, i, j = 1, 0, 0\n",
    "    while i <len(People_Count_N):\n",
    "        if j <len(Plane_Capacity_M) and People_Count_N[i] <= Plane_Capacity_M[j]:\n",
    "            j +=1\n",
    "        elif People_Count_N[i] <= Plane_Capacity_M[j -1]:\n",
    "            minTime  +=2\n",
    "        i +=1\n",
    "        print(i, j, minTime)\n",
    "        print(People_Count_N)\n",
    "        print(Plane_Capacity_M)\n",
    "    return minTime\n",
    " \n",
    "if __name__ == '__main__':\n",
    "    N = map(int, input().split()) \n",
    "    M = map(int, input().split())\n",
    "    People_Count_N = list(map(int, input().split()))\n",
    "    Plane_Capacity_M = list(map(int, input().split()))\n",
    " \n",
    "    print(Minimum_Time(People_Count_N, Plane_Capacity_M))"
   ]
  },
  {
   "cell_type": "markdown",
   "id": "34d42761-b220-4b2d-8261-94f713c63858",
   "metadata": {},
   "source": [
    "## Question 2\n",
    "Alice loves candies, so she went into a candy shop. Now the shopkeeper sells candies in packets and all packets contain an odd number of candies (1, 3, 5, 7.....). Alice wants exactly N\n",
    "candies but she also loves patterns so she decided to buy candies only if the number of candies\n",
    "in the packets is consecutive and distinct (means she cannot buy the same candy packet more than once) and the sum of all the candies in those packets is exactly N\n",
    "Alice has an infinite amount of money and the shopkeeper also has an infinite amount of candy packets, so Alice wonders how many different sets of candy packets she can buy.\n",
    "\n",
    "\n",
    "Find the number of different sets of candy packets that Alice can buy.\n",
    "\n",
    "\n",
    "Input format:\n",
    "    1. The first and the only line contains a single integer\n",
    "N (1≤N≤1000000000)\n",
    "\n",
    "\n",
    "Output format:\n",
    "    1. Print a single integer denoting the number of different sets of candy packets Alice can buy.\n"
   ]
  },
  {
   "cell_type": "code",
   "execution_count": 33,
   "id": "72f9501e-56a8-43b8-8e17-72917f4597bb",
   "metadata": {},
   "outputs": [
    {
     "name": "stdin",
     "output_type": "stream",
     "text": [
      " 5\n"
     ]
    },
    {
     "name": "stdout",
     "output_type": "stream",
     "text": [
      "1\n"
     ]
    }
   ],
   "source": [
    "from math import sqrt\n",
    " \n",
    "n = int(input())\n",
    "ans = 0\n",
    "for i in range(1, int(sqrt(n) + 1)):\n",
    "    if n % i == 0 and i % 2 == n // i % 2:\n",
    "        ans += 1\n",
    "print(ans)"
   ]
  },
  {
   "cell_type": "markdown",
   "id": "a9b3c42f-a8ed-4e46-8501-0bb1b21b66ec",
   "metadata": {},
   "source": [
    "## Question 3\n",
    "Write down a Python program to calculate the factorial of a given integer.\n",
    "Calculate the factorial using recursion and call the factorial function using thread\n"
   ]
  },
  {
   "cell_type": "code",
   "execution_count": 36,
   "id": "91fdc489-df6d-4c95-9b93-81d8987eb303",
   "metadata": {},
   "outputs": [
    {
     "name": "stdin",
     "output_type": "stream",
     "text": [
      "Enter number: 4\n"
     ]
    },
    {
     "name": "stdout",
     "output_type": "stream",
     "text": [
      "Factorial of number is:  24\n"
     ]
    }
   ],
   "source": [
    "def factorial(n):\n",
    "    if(n <= 1):\n",
    "        return 1\n",
    "    else:\n",
    "        return(n*factorial(n-1))\n",
    "n = int(input(\"Enter number:\"))\n",
    "print(\"Factorial of number is: \",factorial(n))\n"
   ]
  }
 ],
 "metadata": {
  "kernelspec": {
   "display_name": "Python 3 (ipykernel)",
   "language": "python",
   "name": "python3"
  },
  "language_info": {
   "codemirror_mode": {
    "name": "ipython",
    "version": 3
   },
   "file_extension": ".py",
   "mimetype": "text/x-python",
   "name": "python",
   "nbconvert_exporter": "python",
   "pygments_lexer": "ipython3",
   "version": "3.9.12"
  }
 },
 "nbformat": 4,
 "nbformat_minor": 5
}
